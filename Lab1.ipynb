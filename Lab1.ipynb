{
 "cells": [
  {
   "cell_type": "markdown",
   "metadata": {},
   "source": [
    "Learning Outcomes\n",
    "================\n",
    "\n",
    "The learning outcomes of this session are\n",
    "\n",
    "-   to have an introductory understanding of Jupyter notebooks.\n",
    "\n",
    "-   To have an introductory understanding of the library NumPy,\n",
    "    particularly with respect to vectors.\n",
    "\n",
    "-   To examine a case where vectors can be analysed that have a much\n",
    "    larger dimension than 3.\n",
    "\n",
    "Notebooks\n",
    "=========\n",
    "\n",
    "If you haven’t encountered this before this is an example of a notebook\n",
    "(specifically a Jupyter notebook). This brings together text and code\n",
    "into one place.\n",
    "\n",
    "The parts of this screen which have \"In \\[ \\]:\" to the left are referred\n",
    "to as cells. Cells are pieces of code that can be run. You can run the\n",
    "cells by clicking on the cell and pressing Control + Enter.\n",
    "\n",
    "If the cell generates output it will appear immediately after the cell\n",
    "in question when you do this.\n",
    "\n",
    "Do not just click through all the cells without thinking about what each\n",
    "cell is going to do.\n",
    "\n",
    "**There will be cells that are empty - you will need to fill them!**\n",
    "\n",
    "It’s important to note that the cells are in order and you should enter\n",
    "them in that order.\n",
    "\n",
    "For this section, you will be largely running things interactively but\n",
    "it’s best to set up an editor window, type in there and then run the\n",
    "script (The F5 key will very much be your friend here).\n",
    "\n",
    "If you click on Help and Keyboard Shortcuts you will get a list of\n",
    "shortcuts for doing particular operations (I find the one for creating a\n",
    "cell below the one you are using is very useful).\n",
    "\n",
    "If you want to save your notebook you can click on the diskette icon but\n",
    "remember that if you restart your binder session the information will be\n",
    "lost. To keep a permanent version on your machine, click on File and\n",
    "then Download as and then Notebook. When you restart your binder session\n",
    "on the directory page select Upload and then upload your file. You can\n",
    "then run it from there.\n",
    "\n",
    "You can also use <a href=\"https://colab.research.google.com/\" class=\"uri\">Google Colab</a> for this exercise. You will need to use the tab on \n",
    "the left hand side to load the data files which you can download from the github repo.\n",
    "\n",
    "You can run Jupyter directly from the department server, (download the repository and type jupyter notebook from the command line). \n",
    "\n",
    "Finally, you can also run Jupyter from your own computer. Instructions on\n",
    "this can be found at\n",
    "<a href=\"https://jupyter.org/install\" class=\"uri\">https://jupyter.org/install</a>. If you do not have it you, \n",
    "<a href=\"https://docs.anaconda.com/anaconda/install/\" class=\"uri\"> anaconda </a> is a handy tool to download Python and Jupyter in one bundle.\n",
    "\n",
    "NumPy Introduction\n",
    "==================\n",
    "\n",
    "We will make use of NumPy for this course to work with vectors and\n",
    "matrices. It’s worth keeping an eye on the QuickStart tutorial to NumPy\n",
    "(which we copy from a great deal here)\n",
    "\n",
    "<a href=\"https://docs.scipy.org/doc/numpy/user/\" class=\"uri\">https://docs.scipy.org/doc/numpy/user/</a>\n",
    "\n",
    "and the NumPy manual at\n",
    "\n",
    "<a href=\"https://docs.scipy.org/doc/numpy/index.html\" class=\"uri\">https://docs.scipy.org/doc/numpy/index.html</a>\n",
    ".\n",
    "\n",
    "The following will import this library into your session"
   ]
  },
  {
   "cell_type": "code",
   "execution_count": 317,
   "metadata": {},
   "outputs": [],
   "source": [
    "import numpy as np\n",
    "from nptyping import ndarray\n",
    "from typing import Any"
   ]
  },
  {
   "cell_type": "markdown",
   "metadata": {},
   "source": [
    "You can define a vector as follows"
   ]
  },
  {
   "cell_type": "code",
   "execution_count": 318,
   "metadata": {},
   "outputs": [],
   "source": [
    "a = np.array([1,2,3])"
   ]
  },
  {
   "source": [
    "(Note the ordering of round and square brackets).\n",
    "\n",
    "Inspect the contents of `a` by executing"
   ],
   "cell_type": "markdown",
   "metadata": {}
  },
  {
   "cell_type": "code",
   "execution_count": 319,
   "metadata": {},
   "outputs": [
    {
     "output_type": "execute_result",
     "data": {
      "text/plain": [
       "array([1, 2, 3])"
      ]
     },
     "metadata": {},
     "execution_count": 319
    }
   ],
   "source": [
    "a"
   ]
  },
  {
   "source": [
    "You can access individual components directly as you would like any\n",
    "other array"
   ],
   "cell_type": "markdown",
   "metadata": {}
  },
  {
   "cell_type": "code",
   "execution_count": 320,
   "metadata": {},
   "outputs": [
    {
     "output_type": "execute_result",
     "data": {
      "text/plain": [
       "1"
      ]
     },
     "metadata": {},
     "execution_count": 320
    }
   ],
   "source": [
    "a[0]"
   ]
  },
  {
   "cell_type": "markdown",
   "metadata": {},
   "source": [
    "**CHECKPOINT Enter in what you would need to inspect the second entry in\n",
    "`a`.**"
   ]
  },
  {
   "cell_type": "code",
   "execution_count": 321,
   "metadata": {},
   "outputs": [
    {
     "output_type": "execute_result",
     "data": {
      "text/plain": [
       "2"
      ]
     },
     "metadata": {},
     "execution_count": 321
    }
   ],
   "source": [
    "a[1+1-1]"
   ]
  },
  {
   "cell_type": "markdown",
   "metadata": {},
   "source": [
    "The vector `a` has an associated set of methods including a nicer print\n",
    "statement."
   ]
  },
  {
   "cell_type": "code",
   "execution_count": 322,
   "metadata": {},
   "outputs": [
    {
     "output_type": "stream",
     "name": "stdout",
     "text": [
      "[1 2 3]\n"
     ]
    }
   ],
   "source": [
    "print(a)"
   ]
  },
  {
   "cell_type": "markdown",
   "metadata": {},
   "source": [
    "The entries in `a` can be integers, floats and so on. Since Python is a\n",
    "dynamically typed language, it tries to figure that out on the fly. One\n",
    "can check the type as follows"
   ]
  },
  {
   "cell_type": "code",
   "execution_count": 323,
   "metadata": {},
   "outputs": [
    {
     "output_type": "execute_result",
     "data": {
      "text/plain": [
       "'int32'"
      ]
     },
     "metadata": {},
     "execution_count": 323
    }
   ],
   "source": [
    "a.dtype.name"
   ]
  },
  {
   "cell_type": "markdown",
   "metadata": {},
   "source": [
    "*Question* - what type did you get?\n",
    "\n",
    "**CHECKPOINT Create another vector `b` with same dimensions and size of\n",
    "entries as `a`, but where the entries are of type float.**"
   ]
  },
  {
   "cell_type": "code",
   "execution_count": 324,
   "metadata": {},
   "outputs": [
    {
     "output_type": "execute_result",
     "data": {
      "text/plain": [
       "'float64'"
      ]
     },
     "metadata": {},
     "execution_count": 324
    }
   ],
   "source": [
    "b = np.array([1.1, 2.2, 3.3])\n",
    "b.dtype.name"
   ]
  },
  {
   "cell_type": "markdown",
   "metadata": {},
   "source": [
    "There is a transpose operation, but for vectors defined this way it\n",
    "doesn’t really do anything. We’ll get back to this in the second lab."
   ]
  },
  {
   "cell_type": "code",
   "execution_count": 325,
   "metadata": {},
   "outputs": [
    {
     "output_type": "execute_result",
     "data": {
      "text/plain": [
       "array([1, 2, 3])"
      ]
     },
     "metadata": {},
     "execution_count": 325
    }
   ],
   "source": [
    "a.T"
   ]
  },
  {
   "cell_type": "markdown",
   "metadata": {},
   "source": [
    "NumPy - Operations\n",
    "==================\n",
    "\n",
    "We define the following set of new vectors."
   ]
  },
  {
   "cell_type": "code",
   "execution_count": 326,
   "metadata": {},
   "outputs": [],
   "source": [
    "c = np.array([1.,2.])"
   ]
  },
  {
   "cell_type": "code",
   "execution_count": 327,
   "metadata": {},
   "outputs": [],
   "source": [
    "d = np.array([2.,1.])"
   ]
  },
  {
   "cell_type": "markdown",
   "metadata": {},
   "source": [
    "We can do many of the simple operations such as multiplication by a\n",
    "scalar, adding and subtracting vectors. **Ask yourself what the output\n",
    "should be before pressing enter.**\n",
    "\n",
    "Type"
   ]
  },
  {
   "cell_type": "code",
   "execution_count": 328,
   "metadata": {},
   "outputs": [
    {
     "output_type": "execute_result",
     "data": {
      "text/plain": [
       "array([2., 4.])"
      ]
     },
     "metadata": {},
     "execution_count": 328
    }
   ],
   "source": [
    "2. * c"
   ]
  },
  {
   "cell_type": "code",
   "execution_count": 329,
   "metadata": {},
   "outputs": [
    {
     "output_type": "execute_result",
     "data": {
      "text/plain": [
       "array([-0.246, -0.123])"
      ]
     },
     "metadata": {},
     "execution_count": 329
    }
   ],
   "source": [
    "-.123 * d"
   ]
  },
  {
   "cell_type": "code",
   "execution_count": 330,
   "metadata": {},
   "outputs": [
    {
     "output_type": "execute_result",
     "data": {
      "text/plain": [
       "array([3., 3.])"
      ]
     },
     "metadata": {},
     "execution_count": 330
    }
   ],
   "source": [
    "c + d"
   ]
  },
  {
   "cell_type": "code",
   "execution_count": 331,
   "metadata": {},
   "outputs": [
    {
     "output_type": "execute_result",
     "data": {
      "text/plain": [
       "array([-1.,  1.])"
      ]
     },
     "metadata": {},
     "execution_count": 331
    }
   ],
   "source": [
    "c - d"
   ]
  },
  {
   "cell_type": "markdown",
   "metadata": {},
   "source": [
    "As these vectors are objects, one needs to be careful when copying them\n",
    "as using $=$ only passes the reference.\n",
    "\n",
    "Type"
   ]
  },
  {
   "cell_type": "code",
   "execution_count": 332,
   "metadata": {},
   "outputs": [],
   "source": [
    "u = c"
   ]
  },
  {
   "cell_type": "code",
   "execution_count": 333,
   "metadata": {},
   "outputs": [
    {
     "output_type": "stream",
     "name": "stdout",
     "text": [
      "[1. 2.]\n"
     ]
    }
   ],
   "source": [
    "print(u)"
   ]
  },
  {
   "cell_type": "code",
   "execution_count": 334,
   "metadata": {},
   "outputs": [],
   "source": [
    "c *= 3"
   ]
  },
  {
   "cell_type": "code",
   "execution_count": 335,
   "metadata": {},
   "outputs": [
    {
     "output_type": "stream",
     "name": "stdout",
     "text": [
      "[3. 6.]\n"
     ]
    }
   ],
   "source": [
    "print(u)"
   ]
  },
  {
   "cell_type": "markdown",
   "metadata": {},
   "source": [
    "If you use the `copy` method then the values of the vector are copied\n",
    "across.\n",
    "\n",
    "Type"
   ]
  },
  {
   "cell_type": "code",
   "execution_count": 336,
   "metadata": {},
   "outputs": [],
   "source": [
    "u = c.copy()"
   ]
  },
  {
   "cell_type": "code",
   "execution_count": 337,
   "metadata": {},
   "outputs": [
    {
     "output_type": "stream",
     "name": "stdout",
     "text": [
      "[3. 6.]\n"
     ]
    }
   ],
   "source": [
    "print(u)"
   ]
  },
  {
   "cell_type": "code",
   "execution_count": 338,
   "metadata": {},
   "outputs": [],
   "source": [
    "c *= 3"
   ]
  },
  {
   "cell_type": "markdown",
   "metadata": {},
   "source": [
    "**What will `u` look like now?**"
   ]
  },
  {
   "cell_type": "code",
   "execution_count": 339,
   "metadata": {},
   "outputs": [
    {
     "output_type": "stream",
     "name": "stdout",
     "text": [
      "[3. 6.]\n"
     ]
    }
   ],
   "source": [
    "print(u)"
   ]
  },
  {
   "cell_type": "markdown",
   "metadata": {},
   "source": [
    "One can compute the dot product between any two vectors. Type"
   ]
  },
  {
   "cell_type": "code",
   "execution_count": 340,
   "metadata": {},
   "outputs": [],
   "source": [
    "c = np.array([1.,2.])"
   ]
  },
  {
   "cell_type": "code",
   "execution_count": 341,
   "metadata": {},
   "outputs": [
    {
     "output_type": "execute_result",
     "data": {
      "text/plain": [
       "4.0"
      ]
     },
     "metadata": {},
     "execution_count": 341
    }
   ],
   "source": [
    "c.dot(d)"
   ]
  },
  {
   "cell_type": "markdown",
   "metadata": {},
   "source": [
    "**CHECKPOINT Create a new vector that is orthogonal to `c`. Demonstrate\n",
    "numerically that it is orthogonal.**"
   ]
  },
  {
   "cell_type": "code",
   "execution_count": null,
   "metadata": {},
   "outputs": [],
   "source": []
  },
  {
   "cell_type": "markdown",
   "metadata": {},
   "source": [
    "There isn’t a length function in NumPy but you can easily construct one.\n",
    "\n",
    "Type"
   ]
  },
  {
   "cell_type": "code",
   "execution_count": 342,
   "metadata": {},
   "outputs": [],
   "source": [
    "import math"
   ]
  },
  {
   "cell_type": "code",
   "execution_count": 343,
   "metadata": {},
   "outputs": [
    {
     "output_type": "execute_result",
     "data": {
      "text/plain": [
       "2.23606797749979"
      ]
     },
     "metadata": {},
     "execution_count": 343
    }
   ],
   "source": [
    "math.sqrt(d.dot(d))"
   ]
  },
  {
   "cell_type": "markdown",
   "metadata": {},
   "source": [
    "**CHECKPOINT Write a short function to compute the length of a vector.**"
   ]
  },
  {
   "source": [
    "def getLengthOfVector(vector: ndarray.NDArray[Any]):\n",
    "    return math.sqrt(vector.dot(vector));\n",
    "\n",
    "\n",
    "getLengthOfVector(a)"
   ],
   "cell_type": "code",
   "metadata": {},
   "execution_count": 344,
   "outputs": [
    {
     "output_type": "execute_result",
     "data": {
      "text/plain": [
       "3.7416573867739413"
      ]
     },
     "metadata": {},
     "execution_count": 344
    }
   ]
  },
  {
   "cell_type": "markdown",
   "metadata": {},
   "source": [
    "One can determine a unit vector `du` for a vector `d`.\n",
    "\n",
    "Type"
   ]
  },
  {
   "cell_type": "code",
   "execution_count": 345,
   "metadata": {},
   "outputs": [],
   "source": [
    "du=d/math.sqrt(d.dot(d))"
   ]
  },
  {
   "cell_type": "markdown",
   "metadata": {},
   "source": [
    "**CHECKPOINT Write a short function to compute the unit vector that is\n",
    "parallel with an inputted vector. Do a check to make sure that vector\n",
    "inputted is not the Null vector. Use that function to check that the new vector is a unit vector.** "
   ]
  },
  {
   "cell_type": "code",
   "execution_count": 346,
   "metadata": {},
   "outputs": [],
   "source": [
    "def getUnitVector(vector: ndarray.NDArray[Any]):\n",
    "    if vector is None:\n",
    "        raise Exception(\"Don't you dare pass in a null value\")\n",
    "    else:\n",
    "        return vector / getLengthOfVector(vector)"
   ]
  },
  {
   "cell_type": "code",
   "execution_count": 347,
   "metadata": {},
   "outputs": [
    {
     "output_type": "stream",
     "name": "stdout",
     "text": [
      "[0.26726124 0.53452248 0.80178373]\n1.0\n"
     ]
    }
   ],
   "source": [
    "unitVector = getUnitVector(np.array([1, 2, 3]))\n",
    "print(unitVector)\n",
    "print(getLengthOfVector(unitVector))"
   ]
  },
  {
   "cell_type": "markdown",
   "metadata": {},
   "source": [
    "Higher dimensional example - character frequencies in different languages.\n",
    "==========================================================================\n",
    "\n",
    "If you are given a piece of text, then it is possible to compute the\n",
    "frequency of occurence of each of the lower case letters in that text.\n",
    "It turns out that the frequency of these letters is relatively fixed\n",
    "from language to language (although this should not seen as an\n",
    "absolutely fixed set of frequencies as every text can represent a\n",
    "different style). It turns out that these frequencies are surprisingly\n",
    "constant between different texts taken from the same language. We can\n",
    "even use it to decrypt texts.\n",
    "\n",
    "Put more mathematically for each text $\\mathcal T$ we can compute the\n",
    "frequency of each letter $f_a^{\\mathcal T}$, $f_b^{\\mathcal T}$ ,\n",
    "$\\dots$ where $f_a^{\\mathcal T}$ is the frequency of lower case “a”’s in\n",
    "$\\mathcal T$ and so on. For the English alphabet there are 26 letters,\n",
    "so we can construct a vector $\\underline{f}^{\\mathcal T}$ of those\n",
    "frequencies. So, $\\underline{f}^{\\mathcal T}$ is a vector *with 26\n",
    "entries*.\n",
    "\n",
    "We can then compare how similar two texts $A$ and $B$ are by comparing\n",
    "their frequencies. Let’s suppose that their corresponding frequency\n",
    "vectors are $\\underline{f}^A$ and $\\underline{f}^B$. We can easily\n",
    "compute cosine of the angle between these two vectors by computing\n",
    "$$\\cos \\theta \\;\\; = \\;\\; \\frac{{\\underline{f^A}^\\intercal} \\cdot {\\underline{f^B}}}{|\\underline{f^A}||\\underline{f^B}|} \\;\\; .$$\n",
    "\n",
    "Remember -\n",
    "\n",
    "1.  if $\\cos \\theta = 1$ then $\\underline{f}^A$ and $\\underline{f}^B$\n",
    "    are parallel to each other, which indicates their frequencies are\n",
    "    very similar.\n",
    "\n",
    "2.  It doesn’t matter about the number of dimensions, the above\n",
    "    relationship still holds (not just for two or three dimensions).\n",
    "\n",
    "We can test this in Python. To do this you will write Python code to\n",
    "compute the frequency of letters for a text and then to compute the dot\n",
    "product between different frequency vectors. Without looking at the\n",
    "files one can check if texts are from the same language or not.\n",
    "\n",
    "In the cell below are two functions that will read in a text and return\n",
    "a string and another function which will return a vector with the\n",
    "*incidence* of lower case letters (i.e. how many times the letter “a”\n",
    "occurs and so on) in a string."
   ]
  },
  {
   "cell_type": "code",
   "execution_count": 348,
   "metadata": {},
   "outputs": [],
   "source": [
    "import re\n",
    "\n",
    "def getString(fn):\n",
    "  f = open(fn,'r')\n",
    "  myString = f.read()\n",
    "  return myString.lower()\n",
    "\n",
    "def getIncidence(string):\n",
    "  letters = \"abcdefghijklmnopqrstuvwxyz\"\n",
    "  Nc = len(letters)\n",
    "  n = np.zeros(Nc,dtype=np.float64)\n",
    "  i = 0\n",
    "  for c in letters:\n",
    "    x = re.findall(c,string)\n",
    "    n[i] = len(x) * 1.0\n",
    "    i += 1\n",
    "  return n"
   ]
  },
  {
   "cell_type": "markdown",
   "metadata": {},
   "source": [
    "**CHECKPOINT Write a function that will compute the frequency vector of\n",
    "the text found in a text file. The input is the file name of the text\n",
    "file name and the output is the frequency vector for that file. If\n",
    "$\\underline{n}$ is the vector of incidences then\n",
    "$$f_i \\;\\; = \\;\\; \\frac{n_i}{\\sum_j N_j} \\;\\; .$$ If you look in the NumPy\n",
    "documentation you will a function to compute the denominator of this.\n",
    "*This is not the same as computing the unit vector - prove this to\n",
    "yourself*.**"
   ]
  },
  {
   "cell_type": "code",
   "execution_count": 349,
   "metadata": {},
   "outputs": [],
   "source": [
    "def getFrequencyVector(filename: str):\n",
    "    textFile = getString(filename);\n",
    "    incidences = getIncidence(textFile);\n",
    "    return incidences / np.sum(incidences)"
   ]
  },
  {
   "cell_type": "code",
   "execution_count": 350,
   "metadata": {},
   "outputs": [
    {
     "output_type": "stream",
     "name": "stdout",
     "text": [
      "[1.31396991e-01 8.80844223e-03 4.38315396e-02 5.13289738e-02\n 1.31664061e-01 9.05593842e-03 1.02535362e-02 6.39367212e-03\n 6.69764101e-02 2.64660663e-03 2.85788984e-04 2.43252181e-02\n 4.45027033e-02 5.19942651e-02 1.10787886e-01 3.06634696e-02\n 1.06847888e-02 6.85951061e-02 8.59770955e-02 5.26401042e-02\n 3.87351733e-02 1.26267103e-02 8.74739398e-05 2.32913128e-03\n 1.14756022e-04 3.29415847e-03]\n1.0\n"
     ]
    }
   ],
   "source": [
    "reference = getFrequencyVector('reference.txt')\n",
    "print(reference)\n",
    "print(sum(reference))"
   ]
  },
  {
   "cell_type": "markdown",
   "metadata": {},
   "source": [
    "**CHECKPOINT Write a function to compute the cosine of the angle between\n",
    "two text frequency vectors. You will need the `math` library.**"
   ]
  },
  {
   "cell_type": "code",
   "execution_count": 351,
   "metadata": {},
   "outputs": [],
   "source": [
    "def getCosine(ina: ndarray.NDArray[Any], inb: ndarray.NDArray[Any]):\n",
    "    return ina.T.dot(inb) / (getLengthOfVector(ina) * getLengthOfVector(inb));"
   ]
  },
  {
   "cell_type": "code",
   "execution_count": 352,
   "metadata": {},
   "outputs": [],
   "source": [
    "getCosine(reference, reference);"
   ]
  },
  {
   "cell_type": "markdown",
   "metadata": {},
   "source": [
    "**CHECKPOINT In the Jupyter folder there are three files, Dutch.txt,\n",
    "English.txt and unknown.txt. The first two files are the same text in\n",
    "Dutch and English respectively. Compute the cosines between the\n",
    "resulting frequency vectors of the three texts and try and determine the\n",
    "language of the file unknown.txt.**"
   ]
  },
  {
   "cell_type": "code",
   "execution_count": 353,
   "metadata": {},
   "outputs": [],
   "source": [
    "english = getFrequencyVector('English.txt');\n",
    "dutch = getFrequencyVector('Dutch.txt');\n",
    "unknown = getFrequencyVector('unknown.txt');"
   ]
  },
  {
   "cell_type": "code",
   "execution_count": 354,
   "metadata": {},
   "outputs": [],
   "source": [
    "getCosine(english, dutch);"
   ]
  },
  {
   "cell_type": "code",
   "execution_count": 355,
   "metadata": {},
   "outputs": [],
   "source": [
    "getCosine(english, unknown);"
   ]
  },
  {
   "cell_type": "code",
   "execution_count": 356,
   "metadata": {},
   "outputs": [],
   "source": [
    "getCosine(dutch, unknown);"
   ]
  },
  {
   "cell_type": "markdown",
   "metadata": {},
   "source": [
    "Extension work\n",
    "==============\n",
    "\n",
    "Rotation encryption is one of the oldest methods for encrypting\n",
    "texts.[1] The idea is relatively simple. Each letter in a text is\n",
    "exchanged with a letter that is a specific number down from it in the\n",
    "alphabetical sequence. So with a encryption rotation with an offset of\n",
    "one would exchange\n",
    "\n",
    "`a` $\\rightarrow$ `b`,\n",
    "\n",
    "`b` $\\rightarrow$ `c`,\n",
    "\n",
    "$\\dots$\n",
    "\n",
    "`z` $\\rightarrow$ `a`.\n",
    "\n",
    "The cipher rotation with an offset of 13 (or ROT-13) would be `a`\n",
    "$\\rightarrow$ `n` and so on.\n",
    "\n",
    "If ones knows the offset, then one can decrypt the text by either\n",
    "performing the reverse transformation on the encrypted text or\n",
    "equivalently apply the transformation with a new offset where the sum of\n",
    "the offsets is 26 (the number of letters in the alphabet). So in the\n",
    "first case if a text has an encryption rotation with a offset of 1\n",
    "applied to it and is then followed by an encryption rotation of 25 we\n",
    "end up with the same text. Two applications of ROT-13 likewise return\n",
    "you to the same text.\n",
    "\n",
    "This encryption method can be very easily broken using the letter\n",
    "frequency method that was discussed in the last set of lab materials. In\n",
    "particular, *the frequencies of the letters will remain the same,\n",
    "regardless of how they are transformed*. Furthermore if you have a\n",
    "reference text, which you know is from the same language as the\n",
    "encrypted text, then you can compare the frequencies to determine what\n",
    "was the offset was.\n",
    "\n",
    "If one applies the encryption rotation algorithm with right offset on\n",
    "the encrypted text then the cosine of the angle between the two\n",
    "frequency vectors should be close to 1.\n",
    "\n",
    "The following function takes a string and carries out a rotation of a\n",
    "string.\n",
    "\n",
    "[1] The fact that it’s sometimes called the “Caesar Cipher” gives you an\n",
    "idea of how old it is!"
   ]
  },
  {
   "cell_type": "code",
   "execution_count": 357,
   "metadata": {},
   "outputs": [],
   "source": [
    "import sys\n",
    "\n",
    "def rot(s,shift):\n",
    "    result = \"\"\n",
    "    numLetters = 26\n",
    "    if ( shift < -(numLetters-1) or shift > (numLetters-1) ):\n",
    "        print(\"Error in rot function - shift must be > -25 and < 25\")\n",
    "        sys.exit(-1)\n",
    "    for v in s:\n",
    "        o, c, upper = v, v.lower(), v.isupper()\n",
    "        if c >= 'a' and c <= 'z':\n",
    "            deltaO = ord(c) - ord('a')\n",
    "            deltaN = (deltaO + shift) % numLetters\n",
    "            c = chr(ord('a') + deltaN)\n",
    "        c = c.upper() if upper else c\n",
    "        result += c\n",
    "\n",
    "    return result"
   ]
  },
  {
   "cell_type": "markdown",
   "metadata": {},
   "source": [
    "**CHECKPOINT In the Jupyter folder there is a piece of English text\n",
    "encrypted using this approach called Englishencrypt.txt Using the above\n",
    "function try and decrypt the text just by comparing the cosine of the\n",
    "frequency vectors between the rotated text and the reference English.txt\n",
    "file.**"
   ]
  },
  {
   "cell_type": "code",
   "execution_count": 358,
   "metadata": {},
   "outputs": [],
   "source": [
    "def getBestRotation(referenceFile, testFile):\n",
    "    referenceVector = getFrequencyVector(referenceFile);\n",
    "    textFile = getString(testFile);\n",
    "\n",
    "    letters = \"abcdefghijklmnopqrstuvwxyz\";\n",
    "    n = np.zeros(len(letters), dtype=np.float64);\n",
    "\n",
    "    for i in range(0, len(n)):\n",
    "        shiftedTextFile = rot(textFile, i);\n",
    "        incidences = getIncidence(shiftedTextFile);\n",
    "        frequencyVector = incidences / np.sum(incidences);\n",
    "        n[i] = getCosine(referenceVector, frequencyVector)\n",
    "\n",
    "    bestCharacter = np.argmax(n)\n",
    "\n",
    "    return rot(textFile, bestCharacter)"
   ]
  },
  {
   "cell_type": "code",
   "execution_count": 359,
   "metadata": {},
   "outputs": [
    {
     "output_type": "execute_result",
     "data": {
      "text/plain": [
       "o him and billy prescotts ad and keyess ad\\nand tom the devils ad then if anything goes wrong in their business we\\nhave to suffer im sure hes very distinguished id like to meet a man like\\nthat god not those other ruck besides hes young those fine young men i\\ncould see down in margate strand bathingplace from the side of the rock\\nstanding up in the sun naked like a god or something and then plunging\\ninto the sea with them why arent all men like that thered be some\\nconsolation for a woman like that lovely little statue he bought i could\\nlook at him all day long curly head and his shoulders his finger up for\\nyou to listen theres real beauty and poetry for you i often felt i wanted\\nto kiss him all over also his lovely young cock there so simple i wouldnt\\nmind taking him in my mouth if nobody was looking as if it was asking you\\nto suck it so clean and white he looks with his boyish face i would too\\nin 1/2 a minute even if some of it went down what its only like gruel or\\nthe dew theres no danger besides hed be so clean compared with those pigs\\nof men i suppose never dream of washing it from i years end to the other\\nthe most of them only thats what gives the women the moustaches im sure\\nitll be grand if i can only get in with a handsome young poet at my age\\nill throw them the 1st thing in the morning till i see if the wishcard\\ncomes out or ill try pairing the lady herself and see if he comes out ill\\nread and study all i can find or learn a bit off by heart if i knew who\\nhe likes so he wont think me stupid if he thinks all women are the same\\nand i can teach him the other part ill make him feel all over him till he\\nhalf faints under me then hell write about me lover and mistress publicly\\ntoo with our 2 photographs in all the papers when he becomes famous o but\\nthen what am i going to do about him though\\n\\nno thats no way for him has he no manners nor no refinement nor no\\nnothing in his nature slapping us behind like that on my bottom because i\\ndidnt call him hugh the ignoramus that doesnt know poetry from a cabbage\\nthats what you get for not keeping them in their proper place pulling off\\nhis shoes and trousers there on the chair before me so barefaced without\\neven asking permission and standing out that vulgar way in the half of a\\nshirt they wear to be admired like a priest or a butcher or those old\\nhypocrites in the time of julius caesar of course hes right enough in his\\nway to pass the time as a joke sure you might as well be in bed with what\\nwith a lion god im sure hed have something better to say for himself an\\nold lion would o well i suppose its because they were so plump and\\ntempting in my short petticoat he couldnt resist they excite myself\\nsometimes its well for men all the amount of pleasure they get off a\\nwomans body were so round and white for them always i wished i was one\\nmyself for a change just to try with that thing they have swelling up on\\nyou so hard and at the same time so soft when you touch it my uncle john\\nhas a thing long i heard those cornerboys saying passing the comer of\\nmarrowbone lane my aunt mary has a thing hairy because it was dark and\\nthey knew a girl was passing it didnt make me blush why should it either\\nits only nature and he puts his thing long into my aunt marys hairy\\netcetera and turns out to be you put the handle in a sweepingbrush men\\nagain all over they can pick and choose what they please a married woman\\nor a fast widow or a girl for their different tastes like those houses\\nround behind irish street no but were to be always chained up theyre not\\ngoing to be chaining me up no damn fear once i start i tell you for their\\nstupid husbands jealousy why cant we all remain friends over it instead\\nof quarrelling her husband found it out what they did together well\\nnaturally and if he did can he undo it hes coronado anyway whatever he\\ndoes and then he going to the other mad extreme about the wife in fair\\ntyrants of course the man never even casts a 2nd thought on the husband\\nor wife either its the woman he wants and he gets her what else were we\\ngiven all those desires for id like to know i cant help it if im young\\nstill can i its a wonder im not an old shrivelled hag before my time\\nliving with him so cold never embracing me except sometimes when hes\\nasleep the wrong end of me not knowing i suppose who he has any man thatd\\nkiss a womans bottom id throw my hat at him after that hed kiss anything\\nunnatural where we havent i atom of any kind of expression in us all of\\nus the same 2 lumps of lard before ever id do that to a man pfooh the\\ndirty brutes the mere thought is enough i kiss the feet of you senorita\\ntheres some sense in that didnt he kiss our halldoor yes he did what a\\nmadman nobody understands his cracked ideas but me still of course a\\nwoman wants to be embraced 20 times a day almost to make her look young\\nno matter by who so long as to be in love or loved by somebody if the\\nfellow you want isnt there sometimes by the lord god i was thinking would\\ni go around by the quays there some dark evening where nobodyd know me\\nand pick up a sailor off the sea thatd be hot on for it and not care a\\npin whose i was only do it off up in a gate somewhere or one of those\\nwildlooking gipsies in rathfarnham had their camp pitched near the\\nbloomfield laundry to try and steal our things if they could i only sent\\nmine there a few times for the name model laundry sending me back over\\nand over some old ones odd stockings that blackguardlooking fellow with\\nthe fine eyes peeling a switch attack me in the dark and ride me up\\nagainst the wall without a word or a murderer anybody what they do\\nthemselves the fine gentlemen in their silk hats that k c lives up\\nsomewhere this way coming out of hardwicke lane the night he gave us the\\nfish supper on account of winning over the boxing match of course it was\\nfor me he gave it i knew him by his gaiters and the walk and when i\\nturned round a minute after just to see there was a woman after coming\\nout of it too some filthy prostitute then he goes home to his wife after\\nthat only i suppose the half of those sailors are rotten again with\\ndisease o move over your big carcass out of that for the love of mike\\nlisten to him the winds that waft my sighs to thee so well he may sleep\\nand sigh the great suggester don poldo de la flora if he knew how he came\\nout on the cards this morning hed have something to sigh for a dark man\\nin some perplexity between 2 7s too in prison for lord knows what he does\\nthat i dont know and im to be slooching around down in the kitchen to get\\nhis lordship his breakfast while hes rolled up like a mummy will i indeed\\ndid you ever see me running id just like to see myself at it show them\\nattention and they treat you like dirt i dont care what anybody says itd\\nbe much better for the world to be governed by the women in it you\\nwouldnt see women going and killing one another and slaughtering when do\\nyou ever see women rolling around drunk like they do or gambling every\\npenny they have and losing it on horses yes because a woman whatever she\\ndoes she knows where to stop sure they wouldnt be in the world at all\\nonly for us they dont know what it is to be a woman and a mother how\\ncould they where would they all of them be if they hadnt all a mother to\\nlook after them what i never had thats why i suppose hes running wild now\\nout at night away from his books and studies and not living at home on\\naccount of the usual rowy house i suppose well its a poor case that those\\nthat have a fine son like that theyre not satisfied and i none was he not\\nable to make one it wasnt my fault we came together when i was watching\\nthe two dogs up in her behind in the middle of the naked street that\\ndisheartened me altogether i suppose i oughtnt to have buried him in that\\nlittle woolly jacket i knitted crying as i was but give it to some poor\\nchild but i knew well id never have another our 1st death too it was we\\nwere never the same since o im not going to think myself into the glooms\\nabout that any more i wonder why he wouldnt stay the night i felt all the\\ntime it was somebody strange he brought in instead of roving around the\\ncity meeting god knows who nightwalkers and pickpockets his poor mother\\nwouldnt like that if she was alive ruining himself for life perhaps still\\nits a lovely hour so silent i used to love coming home after dances the\\nair of the night they have friends they can talk to weve none either he\\nwants what he wont get or its some woman ready to stick her knife in you\\ni hate that in women no wonder they treat us the way they do we are a\\ndreadful lot of bitches i suppose its all the troubles we have makes us\\nso snappy im not like that he could easy have slept in there on the sofa\\nin the other room i suppose he was as shy as a boy he being so young\\nhardly 20 of me in the next room hed have heard me on the chamber arrah\\nwhat harm dedalus i wonder its like those names in gibraltar delapaz\\ndelagracia they had the devils queer names there father vilaplana of\\nsanta maria that gave me the rosary rosales y oreilly in the calle las\\nsiete revueltas and pisimbo and mrs opisso in governor street o what a\\nname id go and drown myself in the first river if i had a name like her o\\nmy and all the bits of streets paradise ramp and bedlam ramp and rodgers\\nramp and crutchetts ramp and the devils gap steps well small blame to me\\nif i am a harumscarum i know i am a bit i declare to god i dont feel a\\nday older than then i wonder could i get my tongue round any of the\\nspanish como esta usted muy bien gracias y usted see i havent forgotten\\nit all i thought i had only for the grammar a noun is the name of any\\nperson place or thing pity i never tried to read that novel cantankerous\\nmrs rubio lent me by valera with the questions in it all upside down the\\ntwo ways i always knew wed go away in the end i can tell him the spanish\\nand he tell me the italian then hell see im not so ignorant what a pity\\nhe didnt stay im sure the poor fellow was dead tired and wanted a good\\nsleep badly i could have brought him in his breakfast in bed with a bit\\nof toast so long as i didnt do it on the knife for bad luck or if the\\nwoman was going her rounds with the watercress and something nice and\\ntasty there are a few olives in the kitchen he might like i never could\\nbear the look of them in abrines i could do the criada the room looks all\\nright since i changed it the other way you see something was telling me\\nall the time id have to introduce myself not knowing me from adam very\\nfunny wouldnt it im his wife or pretend we were in spain with him half\\nawake without a gods notion where he is dos huevos estrellados senor lord\\nthe cracked things come into my head sometimes itd be great fun supposing\\nhe stayed with us why not theres the room upstairs empty and millys bed\\nin the back room he could do his writing and studies at the table in\\nthere for all the scribbling he does at it and if he wants to read in bed\\nin the morning like me as hes making the breakfast for i he can make it\\nfor 2 im sure im not going to take in lodgers off the street for him if\\nhe takes a gesabo of a house like this id love to have a long talk with\\nan intelligent welleducated person id have to get a nice pair of red\\nslippers like those turks with the fez used to sell or yellow and a nice\\nsemitransparent morning gown that i badly want or a peachblossom dressing\\njacket like the one long ago in walpoles only 8/6 or 18/6 ill just give\\nhim one more chance ill get up early in the morning im sick of cohens old\\nbed in any case i might go over to the markets to see all the vegetables\\nand cabbages and tomatoes and carrots and all kinds of splendid fruits\\nall coming in lovely and fresh who knows whod be the 1st man id meet\\ntheyre out looking for it in the morning mamy dillon used to say they are\\nand the night too that was her massgoing id love a big juicy pear now to\\nmelt in your mouth like when i used to be in the longing way then ill\\nthrow him up his eggs and tea in the moustachecup she gave him to make\\nhis mouth bigger i suppose hed like my nice cream too i know what ill do\\nill go about rather gay not too much singing a bit now and then mi fa\\npieta masetto then ill start dressing myself to go out presto non son piu\\nforte ill put on my best shift and drawers let him have a good eyeful out\\nof that to make his micky stand for him ill let him know if thats what he\\nwanted that his wife is i s l o fucked yes and damn well fucked too up to\\nmy neck nearly not by him 5 or 6 times handrunning theres the mark of his\\nspunk on the clean sheet i wouldnt bother to even iron it out that ought\\nto satisfy him if you dont believe me feel my belly unless i made him\\nstand there and put him into me ive a mind to tell him every scrap and\\nmake him do it out in front of me serve him right its all his own fault\\nif i am an adulteress as the thing in the gallery said o much about it if\\nthats all the harm ever we did in this vale of tears god knows its not\\nmuch doesnt everybody only they hide it i suppose thats what a woman is\\nsupposed to be there for or he wouldnt have made us the way he did so\\nattractive to men then if he wants to kiss my bottom ill drag open my\\ndrawers and bulge it right out in his face as large as life he can stick\\nhis tongue 7 miles up my hole as hes there my brown part then ill tell\\nhim i want li or perhaps 30/- ill tell him i want to buy underclothes\\nthen if he gives me that well he wont be too bad i dont want to soak it\\nall out of him like other women do i could often have written out a fine\\ncheque for myself and write his name on it for a couple of pounds a few\\ntimes he forgot to lock it up besides he wont spend it ill let him do it\\noff on me behind provided he doesnt smear all my good drawers o i suppose\\nthat cant be helped ill do the indifferent l or 2 questions ill know by\\nthe answers when hes like that he cant keep a thing back i know every\\nturn in him ill tighten my bottom well and let out a few smutty words\\nsmellrump or lick my shit or the first mad thing comes into my head then\\nill suggest about yes o wait now sonny my turn is coming ill be quite gay\\nand friendly over it o but i was forgetting this bloody pest of a thing\\npfooh you wouldnt know which to laugh or cry were such a mixture of plum\\nand apple no ill have to wear the old things so much the better itll be\\nmore pointed hell never know whether he did it or not there thats good\\nenough for you any old thing at all then ill wipe him off me just like a\\nbusiness his omission then ill go out ill have him eying up at the\\nceiling where is she gone now make him want me thats the only way a\\nquarter after what an unearthly hour i suppose theyre just getting up in\\nchina now combing out their pigtails for the day well soon have the nuns\\nringing the angelus theyve nobody coming in to spoil their sleep except\\nan odd priest or two for his night office or the alarmclock next door at\\ncockshout clattering the brains out of itself let me see if i can doze\\noff 1 2 3 4 5 what kind of flowers are those they invented like the stars\\nthe wallpaper in lombard street was much nicer the apron he gave me was\\nlike that something only i only wore it twice better lower this lamp and\\ntry again so as i can get up early ill go to lambes there beside\\nfindlaters and get them to send us some flowers to put about the place in\\ncase he brings him home tomorrow today i mean no no fridays an unlucky\\nday first i want to do the place up someway the dust grows in it i think\\nwhile im asleep then we can have music and cigarettes i can accompany him\\nfirst i must clean the keys of the piano with milk whatll i wear shall i\\nwear a white rose or those fairy cakes in liptons i love the smell of a\\nrich big shop at 7 1/2d a lb or the other ones with the cherries in them\\nand the pinky sugar 11d a couple of lbs of those a nice plant for the\\nmiddle of the table id get that cheaper in wait wheres this i saw them\\nnot long ago i love flowers id love to have the whole place swimming in\\nroses god of heaven theres nothing like nature the wild mountains then\\nthe sea and the waves rushing then the beautiful country with the fields\\nof oats and wheat and all kinds of things and all the fine cattle going\\nabout that would do your heart good to see rivers and lakes and flowers\\nall sorts of shapes and smells and colours springing up even out of the\\nditches primroses and violets nature it is as for them saying theres no\\ngod i wouldnt give a snap of my two fingers for all their learning why\\ndont they go and create something i often asked him atheists or whatever\\nthey call themselves go and wash the cobbles off themselves first then\\nthey go howling for the priest and they dying and why why because theyre\\nafraid of hell on account of their bad conscience ah yes i know them well\\nwho was the first person in the universe before there was anybody that\\nmade it all who ah that they dont know neither do i so there you are they\\nmight as well try to stop the sun from rising tomorrow the sun shines for\\nyou he said the day we were lying among the rhododendrons on howth head\\nin the grey tweed suit and his straw hat the day i got him to propose to\\nme yes first i gave him the bit of seedcake out of my mouth and it was\\nleapyear like now yes 16 years ago my god after that long kiss i near\\nlost my breath yes he said i was a flower of the mountain yes so we are\\nflowers all a womans body yes that was one true thing he said in his life\\nand the sun shines for you today yes that was why i liked him because i\\nsaw he understood or felt what a woman is and i knew i could always get\\nround him and i gave him all the pleasure i could leading him on till he\\nasked me to say yes and i wouldnt answer first only looked out over the\\nsea and the sky i was thinking of so many things he didnt know of mulvey\\nand mr stanhope and hester and father and old captain groves and the\\nsailors playing all birds fly and i say stoop and washing up dishes they\\ncalled it on the pier and the sentry in front of the governors house with\\nthe thing round his white helmet poor devil half roasted and the spanish\\ngirls laughing in their shawls and their tall combs and the auctions in\\nthe morning the greeks and the jews and the arabs and the devil knows who\\nelse from all the ends of europe and duke street and the fowl market all\\nclucking outside larby sharons and the poor donkeys slipping half asleep\\nand the vague fellows in the cloaks asleep in the shade on the steps and\\nthe big wheels of the carts of the bulls and the old castle thousands of\\nyears old yes and those handsome moors all in white and turbans like\\nkings asking you to sit down in their little bit of a shop and ronda with\\nthe old windows of the posadas 2 glancing eyes a lattice hid for her\\nlover to kiss the iron and the wineshops half open at night and the\\ncastanets and the night we missed the boat at algeciras the watchman\\ngoing about serene with his lamp and o that awful deepdown torrent o and\\nthe sea the sea crimson sometimes like fire and the glorious sunsets and\\nthe figtrees in the alameda gardens yes and all the queer little streets\\nand the pink and blue and yellow houses and the rosegardens and the\\njessamine and geraniums and cactuses and gibraltar as a girl where i was\\na flower of the mountain yes when i put the rose in my hair like the\\nandalusian girls used or shall i wear a red yes and how he kissed me\\nunder the moorish wall and i thought well as well him as another and then\\ni asked him with my eyes to ask again yes and then he asked me would i\\nyes to say yes my mountain flower and first i put my arms around him yes\\nand drew him down to me so he could feel my breasts all perfume yes and\\nhis heart was going like mad and yes i said yes i will yes.\\n\\n\\n\\ntrieste-zurich-paris\\n1914-1921\\n\\n    \\n'"
      ]
     },
     "metadata": {},
     "execution_count": 359
    }
   ],
   "source": [
    "getBestRotation(\"English.txt\", \"Englishencrypt.txt\")"
   ]
  },
  {
   "cell_type": "code",
   "execution_count": null,
   "metadata": {},
   "outputs": [],
   "source": []
  }
 ],
 "metadata": {
  "kernelspec": {
   "display_name": "Python 3",
   "language": "python",
   "name": "python3"
  },
  "language_info": {
   "codemirror_mode": {
    "name": "ipython",
    "version": 3
   },
   "file_extension": ".py",
   "mimetype": "text/x-python",
   "name": "python",
   "nbconvert_exporter": "python",
   "pygments_lexer": "ipython3",
   "version": "3.8.5-final"
  }
 },
 "nbformat": 4,
 "nbformat_minor": 5
}